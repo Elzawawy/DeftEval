{
  "nbformat": 4,
  "nbformat_minor": 0,
  "metadata": {
    "colab": {
      "name": "DeftEval_NLP_SBER_Approach.ipynb",
      "provenance": [],
      "collapsed_sections": []
    },
    "kernelspec": {
      "name": "python3",
      "display_name": "Python 3"
    }
  },
  "cells": [
    {
      "cell_type": "code",
      "metadata": {
        "id": "9Bq9lHSkdK6_",
        "colab_type": "code",
        "outputId": "7cb1ee4e-c4ff-4a68-d93e-bd4c5d0e5f0c",
        "colab": {
          "base_uri": "https://localhost:8080/",
          "height": 139
        }
      },
      "source": [
        "!git clone https://github.com/adobe-research/deft_corpus.git"
      ],
      "execution_count": 0,
      "outputs": [
        {
          "output_type": "stream",
          "text": [
            "Cloning into 'deft_corpus'...\n",
            "remote: Enumerating objects: 894, done.\u001b[K\n",
            "remote: Counting objects: 100% (894/894), done.\u001b[K\n",
            "remote: Compressing objects: 100% (462/462), done.\u001b[K\n",
            "remote: Total 2196 (delta 601), reused 669 (delta 424), pack-reused 1302\u001b[K\n",
            "Receiving objects: 100% (2196/2196), 42.39 MiB | 5.42 MiB/s, done.\n",
            "Resolving deltas: 100% (1386/1386), done.\n"
          ],
          "name": "stdout"
        }
      ]
    },
    {
      "cell_type": "code",
      "metadata": {
        "id": "NvLVZxy2d4d-",
        "colab_type": "code",
        "outputId": "353d5913-9ccf-4ef3-9632-8fd276582e74",
        "colab": {
          "base_uri": "https://localhost:8080/",
          "height": 208
        }
      },
      "source": [
        "!unzip src.zip"
      ],
      "execution_count": 0,
      "outputs": [
        {
          "output_type": "stream",
          "text": [
            "Archive:  src.zip\n",
            "   creating: scripts/\n",
            "  inflating: scripts/__init__.py     \n",
            "  inflating: scripts/task1_converter.py  \n",
            "   creating: source/\n",
            "  inflating: source/__init__.py      \n",
            "  inflating: source/classifiers.py   \n",
            "  inflating: source/data_loader.py   \n",
            "  inflating: source/text_vectorizers.py  \n",
            "  inflating: Data Loading and Preparation.ipynb  \n",
            "  inflating: README.md               \n"
          ],
          "name": "stdout"
        }
      ]
    },
    {
      "cell_type": "markdown",
      "metadata": {
        "id": "Y5LkHO3wvMjR",
        "colab_type": "text"
      },
      "source": [
        "# Loading The Data"
      ]
    },
    {
      "cell_type": "code",
      "metadata": {
        "id": "k_bdcSWpuDXv",
        "colab_type": "code",
        "colab": {}
      },
      "source": [
        "from source.data_loader import DeftCorpusLoader"
      ],
      "execution_count": 0,
      "outputs": []
    },
    {
      "cell_type": "code",
      "metadata": {
        "id": "0H8lHo7Nuc9E",
        "colab_type": "code",
        "colab": {}
      },
      "source": [
        "loader = DeftCorpusLoader('deft_corpus/data')"
      ],
      "execution_count": 0,
      "outputs": []
    },
    {
      "cell_type": "code",
      "metadata": {
        "id": "kL8Px4_Av_ZO",
        "colab_type": "code",
        "colab": {}
      },
      "source": [
        "train_df, dev_df = loader.load_classification_data()"
      ],
      "execution_count": 0,
      "outputs": []
    },
    {
      "cell_type": "code",
      "metadata": {
        "id": "Rxg-OVsxwJnC",
        "colab_type": "code",
        "outputId": "22e0ce11-b529-4952-e31d-52087f11e754",
        "colab": {
          "base_uri": "https://localhost:8080/",
          "height": 206
        }
      },
      "source": [
        "train_df.head()"
      ],
      "execution_count": 0,
      "outputs": [
        {
          "output_type": "execute_result",
          "data": {
            "text/html": [
              "<div>\n",
              "<style scoped>\n",
              "    .dataframe tbody tr th:only-of-type {\n",
              "        vertical-align: middle;\n",
              "    }\n",
              "\n",
              "    .dataframe tbody tr th {\n",
              "        vertical-align: top;\n",
              "    }\n",
              "\n",
              "    .dataframe thead th {\n",
              "        text-align: right;\n",
              "    }\n",
              "</style>\n",
              "<table border=\"1\" class=\"dataframe\">\n",
              "  <thead>\n",
              "    <tr style=\"text-align: right;\">\n",
              "      <th></th>\n",
              "      <th>Sentence</th>\n",
              "      <th>HasDef</th>\n",
              "    </tr>\n",
              "  </thead>\n",
              "  <tbody>\n",
              "    <tr>\n",
              "      <th>0</th>\n",
              "      <td>6110 . Defining obscenity has been something ...</td>\n",
              "      <td>0</td>\n",
              "    </tr>\n",
              "    <tr>\n",
              "      <th>1</th>\n",
              "      <td>Into the early twentieth century , written wo...</td>\n",
              "      <td>0</td>\n",
              "    </tr>\n",
              "    <tr>\n",
              "      <th>2</th>\n",
              "      <td>In 1973 , the Supreme Court established the M...</td>\n",
              "      <td>1</td>\n",
              "    </tr>\n",
              "    <tr>\n",
              "      <th>3</th>\n",
              "      <td>Miller v. California , 413 U.S. 15 ( 1973 ) .</td>\n",
              "      <td>0</td>\n",
              "    </tr>\n",
              "    <tr>\n",
              "      <th>4</th>\n",
              "      <td>However , the application of this standard ha...</td>\n",
              "      <td>0</td>\n",
              "    </tr>\n",
              "  </tbody>\n",
              "</table>\n",
              "</div>"
            ],
            "text/plain": [
              "                                            Sentence  HasDef\n",
              "0   6110 . Defining obscenity has been something ...       0\n",
              "1   Into the early twentieth century , written wo...       0\n",
              "2   In 1973 , the Supreme Court established the M...       1\n",
              "3      Miller v. California , 413 U.S. 15 ( 1973 ) .       0\n",
              "4   However , the application of this standard ha...       0"
            ]
          },
          "metadata": {
            "tags": []
          },
          "execution_count": 75
        }
      ]
    },
    {
      "cell_type": "markdown",
      "metadata": {
        "id": "2t5z25TAvU3E",
        "colab_type": "text"
      },
      "source": [
        "# Imports"
      ]
    },
    {
      "cell_type": "code",
      "metadata": {
        "id": "SjeLWvpkwjPF",
        "colab_type": "code",
        "colab": {}
      },
      "source": [
        "import pandas as pd\n",
        "import numpy as np\n",
        "from tqdm import tqdm\n",
        "from gensim.models import Doc2Vec\n",
        "from gensim.models import Word2Vec\n",
        "from sklearn import utils\n",
        "from sklearn.model_selection import train_test_split\n",
        "import gensim\n",
        "from sklearn.linear_model import LogisticRegression\n",
        "from gensim.models.doc2vec import TaggedDocument\n",
        "import re\n",
        "import seaborn as sns\n",
        "import matplotlib.pyplot as plt\n",
        "import tensorflow as tf\n",
        "from tensorflow.keras.layers import LSTM, Bidirectional\n",
        "from tensorflow.keras.layers import Embedding\n",
        "from tensorflow.keras.models import Model, Sequential\n",
        "from tensorflow.keras.layers import Dense, Activation, GlobalMaxPooling1D, Dropout, Flatten\n",
        "from tensorflow.keras.preprocessing.text import Tokenizer\n",
        "from tensorflow.keras.preprocessing.sequence import pad_sequences"
      ],
      "execution_count": 0,
      "outputs": []
    },
    {
      "cell_type": "markdown",
      "metadata": {
        "id": "8eEBFWkKvYSk",
        "colab_type": "text"
      },
      "source": [
        "# Data Preprocessing"
      ]
    },
    {
      "cell_type": "code",
      "metadata": {
        "id": "gYJWephNww7H",
        "colab_type": "code",
        "colab": {}
      },
      "source": [
        "loader.preprocess_data(train_df)"
      ],
      "execution_count": 0,
      "outputs": []
    },
    {
      "cell_type": "code",
      "metadata": {
        "id": "6Nr2VnhzBmY0",
        "colab_type": "code",
        "colab": {}
      },
      "source": [
        "loader.clean_data(train_df)"
      ],
      "execution_count": 0,
      "outputs": []
    },
    {
      "cell_type": "code",
      "metadata": {
        "id": "2sK8oxFhHJNs",
        "colab_type": "code",
        "colab": {}
      },
      "source": [
        "loader.preprocess_data(dev_df)"
      ],
      "execution_count": 0,
      "outputs": []
    },
    {
      "cell_type": "code",
      "metadata": {
        "id": "I0aOHHhTBm8w",
        "colab_type": "code",
        "colab": {}
      },
      "source": [
        "loader.clean_data(dev_df)"
      ],
      "execution_count": 0,
      "outputs": []
    },
    {
      "cell_type": "code",
      "metadata": {
        "id": "PImKzQV5hhK_",
        "colab_type": "code",
        "outputId": "df1822a1-3475-45cd-e41b-c267343bcead",
        "colab": {
          "base_uri": "https://localhost:8080/",
          "height": 206
        }
      },
      "source": [
        "train_df.head()"
      ],
      "execution_count": 0,
      "outputs": [
        {
          "output_type": "execute_result",
          "data": {
            "text/html": [
              "<div>\n",
              "<style scoped>\n",
              "    .dataframe tbody tr th:only-of-type {\n",
              "        vertical-align: middle;\n",
              "    }\n",
              "\n",
              "    .dataframe tbody tr th {\n",
              "        vertical-align: top;\n",
              "    }\n",
              "\n",
              "    .dataframe thead th {\n",
              "        text-align: right;\n",
              "    }\n",
              "</style>\n",
              "<table border=\"1\" class=\"dataframe\">\n",
              "  <thead>\n",
              "    <tr style=\"text-align: right;\">\n",
              "      <th></th>\n",
              "      <th>Sentence</th>\n",
              "      <th>HasDef</th>\n",
              "      <th>Parsed</th>\n",
              "    </tr>\n",
              "  </thead>\n",
              "  <tbody>\n",
              "    <tr>\n",
              "      <th>0</th>\n",
              "      <td>6110 . Defining obscenity has been something ...</td>\n",
              "      <td>0</td>\n",
              "      <td>[defining, obscenity, challenge, court, suprem...</td>\n",
              "    </tr>\n",
              "    <tr>\n",
              "      <th>1</th>\n",
              "      <td>Into the early twentieth century , written wo...</td>\n",
              "      <td>0</td>\n",
              "      <td>[early, 20, century, write, work, frequently, ...</td>\n",
              "    </tr>\n",
              "    <tr>\n",
              "      <th>2</th>\n",
              "      <td>In 1973 , the Supreme Court established the M...</td>\n",
              "      <td>1</td>\n",
              "      <td>[supreme, court, establish, miller, test, deci...</td>\n",
              "    </tr>\n",
              "    <tr>\n",
              "      <th>5</th>\n",
              "      <td>In particular , the concept of “ contemporary...</td>\n",
              "      <td>0</td>\n",
              "      <td>[particular, concept, contemporary, community,...</td>\n",
              "    </tr>\n",
              "    <tr>\n",
              "      <th>6</th>\n",
              "      <td>6113 . Free expression includes the right to ...</td>\n",
              "      <td>0</td>\n",
              "      <td>[free, expression, include, right, assemble, p...</td>\n",
              "    </tr>\n",
              "  </tbody>\n",
              "</table>\n",
              "</div>"
            ],
            "text/plain": [
              "                                            Sentence  ...                                             Parsed\n",
              "0   6110 . Defining obscenity has been something ...  ...  [defining, obscenity, challenge, court, suprem...\n",
              "1   Into the early twentieth century , written wo...  ...  [early, 20, century, write, work, frequently, ...\n",
              "2   In 1973 , the Supreme Court established the M...  ...  [supreme, court, establish, miller, test, deci...\n",
              "5   In particular , the concept of “ contemporary...  ...  [particular, concept, contemporary, community,...\n",
              "6   6113 . Free expression includes the right to ...  ...  [free, expression, include, right, assemble, p...\n",
              "\n",
              "[5 rows x 3 columns]"
            ]
          },
          "metadata": {
            "tags": []
          },
          "execution_count": 106
        }
      ]
    },
    {
      "cell_type": "code",
      "metadata": {
        "id": "DSJOBTaUhGXI",
        "colab_type": "code",
        "colab": {}
      },
      "source": [
        "vocab = np.unique([y for x in train_df['Parsed'] for y in x])"
      ],
      "execution_count": 0,
      "outputs": []
    },
    {
      "cell_type": "code",
      "metadata": {
        "id": "i5jpJywWg-a7",
        "colab_type": "code",
        "colab": {}
      },
      "source": [
        "vocab_size = len(vocab)"
      ],
      "execution_count": 0,
      "outputs": []
    },
    {
      "cell_type": "code",
      "metadata": {
        "id": "Ri3wDmyfGuQw",
        "colab_type": "code",
        "colab": {}
      },
      "source": [
        "max_length = np.max([np.count_nonzero(x) for x in train_df['Parsed']])"
      ],
      "execution_count": 0,
      "outputs": []
    },
    {
      "cell_type": "code",
      "metadata": {
        "id": "u4M4v73iUe_N",
        "colab_type": "code",
        "colab": {}
      },
      "source": [
        "avg_length = int(np.ceil(np.average([np.count_nonzero(x) for x in train_df['Parsed']])))"
      ],
      "execution_count": 0,
      "outputs": []
    },
    {
      "cell_type": "code",
      "metadata": {
        "id": "MMFCQPp5fqRM",
        "colab_type": "code",
        "outputId": "90b22798-febe-4267-e68e-f0ab142595af",
        "colab": {
          "base_uri": "https://localhost:8080/",
          "height": 34
        }
      },
      "source": [
        "len(train_df['HasDef'])"
      ],
      "execution_count": 0,
      "outputs": [
        {
          "output_type": "execute_result",
          "data": {
            "text/plain": [
              "16165"
            ]
          },
          "metadata": {
            "tags": []
          },
          "execution_count": 110
        }
      ]
    },
    {
      "cell_type": "code",
      "metadata": {
        "id": "mxBb6jrpfe8t",
        "colab_type": "code",
        "colab": {}
      },
      "source": [
        "train_positive_class_length = np.count_nonzero([x for x in train_df['HasDef'] if x == 1])\n",
        "train_negative_class_length = np.abs(len(train_df['HasDef']) - train_positive_class_length)"
      ],
      "execution_count": 0,
      "outputs": []
    },
    {
      "cell_type": "code",
      "metadata": {
        "id": "lw4V7dTTfuA3",
        "colab_type": "code",
        "colab": {}
      },
      "source": [
        "MAX_NB_WORDS = vocab_size    # max no. of words for tokenizer\n",
        "MAX_SEQUENCE_LENGTH = avg_length # max length of each entry (sentence), including padding\n",
        "EMBEDDING_DIM = 100      # embedding dimensions for word vectors (word2vec/GloVe)\n",
        "GLOVE_DIR = \"glove.6B.\"+str(EMBEDDING_DIM)+\"d.txt\""
      ],
      "execution_count": 0,
      "outputs": []
    },
    {
      "cell_type": "markdown",
      "metadata": {
        "id": "S8ia9kuCCVnl",
        "colab_type": "text"
      },
      "source": [
        "# SBERT Pretrained"
      ]
    },
    {
      "cell_type": "markdown",
      "metadata": {
        "id": "Pn4NXd0vUSHW",
        "colab_type": "text"
      },
      "source": [
        "BERT (Bidirectional Encoder Representations from Transformers) is a paper published by researchers at Google AI Language. It has caused a stir in the Machine Learning community by presenting state-of-the-art results in a wide variety of NLP tasks.\n",
        "BERT produces out-of-the-box rather bad sentence embeddings. Sentence BERT paper fine-tunes BERT / RoBERTa / DistilBERT / ALBERT / XLNet with a siamese or triplet network structure to produce semantically meaningful sentence embeddings that can be used in unsupervised scenarios. The embdedings are used to encode the documents and use a naive bayes classifier to classify the dev dataset"
      ]
    },
    {
      "cell_type": "code",
      "metadata": {
        "id": "Lor26IOumqGB",
        "colab_type": "code",
        "colab": {}
      },
      "source": [
        "!pip install -U sentence-transformers"
      ],
      "execution_count": 0,
      "outputs": []
    },
    {
      "cell_type": "code",
      "metadata": {
        "id": "99tH3SmYHlU4",
        "colab_type": "code",
        "colab": {}
      },
      "source": [
        "train_parsed_sentences = [\" \".join(x) for x in train_df['Parsed']]"
      ],
      "execution_count": 0,
      "outputs": []
    },
    {
      "cell_type": "code",
      "metadata": {
        "id": "S-HmsF2XJTj8",
        "colab_type": "code",
        "colab": {}
      },
      "source": [
        "dev_parsed_sentences = [\" \".join(x) for x in dev_df['Parsed']]"
      ],
      "execution_count": 0,
      "outputs": []
    },
    {
      "cell_type": "code",
      "metadata": {
        "id": "gSZhTPHBCdsE",
        "colab_type": "code",
        "outputId": "c5c4fbae-7f2d-4dd7-b8f1-872155a57986",
        "colab": {
          "base_uri": "https://localhost:8080/",
          "height": 34
        }
      },
      "source": [
        "from sentence_transformers import SentenceTransformer\n",
        "model = SentenceTransformer('bert-large-nli-mean-tokens')"
      ],
      "execution_count": 0,
      "outputs": [
        {
          "output_type": "stream",
          "text": [
            "100%|██████████| 1.24G/1.24G [02:18<00:00, 8.99MB/s]\n"
          ],
          "name": "stderr"
        }
      ]
    },
    {
      "cell_type": "code",
      "metadata": {
        "id": "AUkUhK4SCs_Y",
        "colab_type": "code",
        "colab": {}
      },
      "source": [
        "train_sbert_embeddings = model.encode(train_parsed_sentences)"
      ],
      "execution_count": 0,
      "outputs": []
    },
    {
      "cell_type": "code",
      "metadata": {
        "id": "bC-jtzSZEBcS",
        "colab_type": "code",
        "colab": {}
      },
      "source": [
        "dev_sbert_embeddings = model.encode(dev_parsed_sentences)"
      ],
      "execution_count": 0,
      "outputs": []
    },
    {
      "cell_type": "code",
      "metadata": {
        "id": "5-VuF73uIA5Y",
        "colab_type": "code",
        "outputId": "e5a8b8cb-e636-4208-8e14-a9b375ec62fc",
        "colab": {
          "base_uri": "https://localhost:8080/",
          "height": 34
        }
      },
      "source": [
        "len(train_sbert_embeddings)"
      ],
      "execution_count": 0,
      "outputs": [
        {
          "output_type": "execute_result",
          "data": {
            "text/plain": [
              "16165"
            ]
          },
          "metadata": {
            "tags": []
          },
          "execution_count": 161
        }
      ]
    },
    {
      "cell_type": "markdown",
      "metadata": {
        "id": "GuHU8pbwXjfs",
        "colab_type": "text"
      },
      "source": [
        "## Naive Bayes"
      ]
    },
    {
      "cell_type": "code",
      "metadata": {
        "id": "RwtVejZfFNge",
        "colab_type": "code",
        "outputId": "36204572-d285-4d97-9298-69234610d62d",
        "colab": {
          "base_uri": "https://localhost:8080/",
          "height": 191
        }
      },
      "source": [
        "from sklearn.metrics import classification_report\n",
        "from sklearn.naive_bayes import GaussianNB\n",
        "\n",
        "nb = GaussianNB()\n",
        "nb.fit(train_sbert_embeddings, train_df['HasDef'].values)\n",
        "\n",
        "y_pred = nb.predict(dev_sbert_embeddings)\n",
        "\n",
        "print('Dev classification report:\\n {}'.format(classification_report(dev_df['HasDef'].values, y_pred)))"
      ],
      "execution_count": 0,
      "outputs": [
        {
          "output_type": "stream",
          "text": [
            "Dev classification report:\n",
            "               precision    recall  f1-score   support\n",
            "\n",
            "           0       0.75      0.60      0.67       509\n",
            "           1       0.46      0.63      0.53       271\n",
            "\n",
            "    accuracy                           0.61       780\n",
            "   macro avg       0.60      0.61      0.60       780\n",
            "weighted avg       0.65      0.61      0.62       780\n",
            "\n"
          ],
          "name": "stdout"
        }
      ]
    },
    {
      "cell_type": "code",
      "metadata": {
        "id": "1R8v3cqKIgcz",
        "colab_type": "code",
        "colab": {}
      },
      "source": [
        ""
      ],
      "execution_count": 0,
      "outputs": []
    }
  ]
}