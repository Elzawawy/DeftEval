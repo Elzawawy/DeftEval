{
 "cells": [
  {
   "cell_type": "markdown",
   "metadata": {},
   "source": [
    "# Data Loading and Preparation\n",
    "In this notebook we show: \n",
    "- How to use our data loader implementation specifically built for the DeftCorpus dataset ?\n",
    "- How we prepared the DeftCorpus dataset for usage for Sentence Definition Classification ?\n",
    "\n",
    "If you need assitance to understand the dataset, the folder hierarchy and the basics of the data, refere to teh README.md of the project. We assume you have read this and have a clear vision of the data format before looking into this notebook."
   ]
  },
  {
   "cell_type": "code",
   "execution_count": 1,
   "metadata": {},
   "outputs": [],
   "source": [
    "#imports cell\n",
    "import pandas as pd\n",
    "from source.data_loader import DeftCorpusLoader"
   ]
  },
  {
   "cell_type": "markdown",
   "metadata": {},
   "source": [
    "## Loading dataset for classification using DeftCorpusLoader\n",
    "Recall that the dataset in it's original format is not ready for the classification task and that we have to first run a convert script to put it into the classification format we need. For our convience, we built a Loader class that helps us in every aspect of loading, converting and preprocssing the dataset.\n",
    "\n",
    "Possible Steps for Class Usages:\n",
    "\n",
    "- Create instance of the class, with the path to your **\"data\" folder** from \"deft_corpus\" folder.\n",
    "\n",
    "\n",
    "- Call `load_classification_data` on class instance with **no arguments passed**, this will create two folders in \"deft_files\" folder by default including the re-formatted for classification task. Then will load these files and return two dataframes. The two dataframes include two splits, a training split and a development split (used for testing purposes during Training phase of Competition)\n",
    "\n",
    "\n",
    "- Alternatively, you can call `convert_to_classififcation_format` on class instance with **no arguments passed or pass arguments to specify folders and not use defaults** to first convert and create the two folders. The, call `load_classification_data` with the folders paths created from by the first method. This alternative way is provided for those who intend to work with **their own folder paths rather than the provided defaults.**\n",
    "\n",
    "\n",
    "- Note that, you can pass `preprocess=True` and `clean=True` arguments to the `load_classification_data` to efficently load, preprocess and clean data for you all in one line. For explaination and reporting purposes we rather split those functions usage in this notebook but you are free to use either of both approaches.\n",
    "\n",
    "*In this notebook, we use the rather easier and preferred method one.*"
   ]
  },
  {
   "cell_type": "code",
   "execution_count": 2,
   "metadata": {},
   "outputs": [],
   "source": [
    "deft_loader = DeftCorpusLoader(\"deft_corpus/data\")\n",
    "trainframe, devframe = deft_loader.load_classification_data()"
   ]
  },
  {
   "cell_type": "markdown",
   "metadata": {},
   "source": [
    "### Exploring dataset \n",
    "- There are two columns: `Sentence` which has the sentence text, `HasDef` boolean value to determine whether it is a definition or not. \n",
    "- There are **18,157 instances for training** and **865 instances for development** (testing purposes here)\n",
    "- There are **duplicates sentences**, those has to be removed in the cleaning process."
   ]
  },
  {
   "cell_type": "code",
   "execution_count": 3,
   "metadata": {},
   "outputs": [
    {
     "name": "stdout",
     "output_type": "stream",
     "text": [
      "\n",
      "Head of  train  Dataframe:\n",
      "==============================================================\n",
      "                                            Sentence  HasDef\n",
      "0   3918 . You may recall that 6 x 6 = 36 , 6 x 7...       0\n",
      "1   Memorizing these facts is rehearsal . Another...       1\n",
      "2   Chunking is useful when trying to remember in...       0\n",
      "3   3921 . Use elaborative rehearsal : In a famou...       1\n",
      "4      Their theory is called levels of processing .       0\n",
      "==============================================================\n",
      "Number of instances of  train is 18157\n",
      "==============================================================\n",
      "Statistics of Sentences:\n",
      "==============================================================\n",
      "count                   18157\n",
      "unique                  16772\n",
      "top        ( See [ link ] . )\n",
      "freq                        6\n",
      "Name: Sentence, dtype: object\n",
      "\n",
      "Head of  dev  Dataframe:\n",
      "==============================================================\n",
      "                                            Sentence  HasDef\n",
      "0   309 . Both photosystems have the same basic s...       1\n",
      "1   Each photosystem is serviced by the light - h...       0\n",
      "2   The absorption of a single photon or distinct...       0\n",
      "3   390 . Mistakes in the duplication or distribu...       0\n",
      "4   To prevent a compromised cell from continuing...       0\n",
      "==============================================================\n",
      "Number of instances of  dev is 865\n",
      "==============================================================\n",
      "Statistics of Sentences:\n",
      "==============================================================\n",
      "count         865\n",
      "unique        854\n",
      "top        2014 .\n",
      "freq            3\n",
      "Name: Sentence, dtype: object\n"
     ]
    }
   ],
   "source": [
    "deft_loader.explore_data(trainframe, \"train\")\n",
    "deft_loader.explore_data(devframe, \"dev\")"
   ]
  },
  {
   "cell_type": "markdown",
   "metadata": {},
   "source": [
    "### Exploring classes and classification problem\n",
    "- There are **12,143 instances** of class label `0` ---> `This sentence is not a definition`.\n",
    "- There are **6,014 instances** of class label `1` ---> `This sentence is a definition`.\n",
    "- Determining problem: **Binary Classification Problem.**\n",
    "- A clear **classes imbalance** case exists in our data. "
   ]
  },
  {
   "cell_type": "code",
   "execution_count": 4,
   "metadata": {
    "scrolled": false
   },
   "outputs": [
    {
     "data": {
      "text/plain": [
       "<matplotlib.axes._subplots.AxesSubplot at 0x7fdda2299410>"
      ]
     },
     "execution_count": 4,
     "metadata": {},
     "output_type": "execute_result"
    },
    {
     "data": {
      "image/png": "[encoded data removed]",
      "text/plain": [
       "<Figure size 432x288 with 1 Axes>"
      ]
     },
     "metadata": {
      "needs_background": "light"
     },
     "output_type": "display_data"
    }
   ],
   "source": [
    "trainframe.HasDef.value_counts().plot.bar()"
   ]
  },
  {
   "cell_type": "markdown",
   "metadata": {},
   "source": [
    "## Preprocessing dataset using Spacy\n",
    "- Tokenizing corpus sentences into word tokens.\n",
    "- Lemmatization of each token. \n",
    "- Lowercase each token. \n",
    "- Removing stop words, punctuations, spaces and non alphanumeric characters.\n",
    "- Adds a column on the dataframe for preprocessed tokens according to above rules."
   ]
  },
  {
   "cell_type": "code",
   "execution_count": 5,
   "metadata": {
    "scrolled": false
   },
   "outputs": [
    {
     "data": {
      "text/html": [
       "<div>\n",
       "<style scoped>\n",
       "    .dataframe tbody tr th:only-of-type {\n",
       "        vertical-align: middle;\n",
       "    }\n",
       "\n",
       "    .dataframe tbody tr th {\n",
       "        vertical-align: top;\n",
       "    }\n",
       "\n",
       "    .dataframe thead th {\n",
       "        text-align: right;\n",
       "    }\n",
       "</style>\n",
       "<table border=\"1\" class=\"dataframe\">\n",
       "  <thead>\n",
       "    <tr style=\"text-align: right;\">\n",
       "      <th></th>\n",
       "      <th>Sentence</th>\n",
       "      <th>HasDef</th>\n",
       "      <th>Parsed</th>\n",
       "    </tr>\n",
       "  </thead>\n",
       "  <tbody>\n",
       "    <tr>\n",
       "      <th>0</th>\n",
       "      <td>3918 . You may recall that 6 x 6 = 36 , 6 x 7...</td>\n",
       "      <td>0</td>\n",
       "      <td>[recall, x, x, x]</td>\n",
       "    </tr>\n",
       "    <tr>\n",
       "      <th>1</th>\n",
       "      <td>Memorizing these facts is rehearsal . Another...</td>\n",
       "      <td>1</td>\n",
       "      <td>[memorizing, fact, rehearsal, strategy, chunk,...</td>\n",
       "    </tr>\n",
       "    <tr>\n",
       "      <th>2</th>\n",
       "      <td>Chunking is useful when trying to remember in...</td>\n",
       "      <td>0</td>\n",
       "      <td>[chunking, useful, try, remember, information,...</td>\n",
       "    </tr>\n",
       "    <tr>\n",
       "      <th>3</th>\n",
       "      <td>3921 . Use elaborative rehearsal : In a famou...</td>\n",
       "      <td>1</td>\n",
       "      <td>[use, elaborative, rehearsal, famous, article,...</td>\n",
       "    </tr>\n",
       "    <tr>\n",
       "      <th>4</th>\n",
       "      <td>Their theory is called levels of processing .</td>\n",
       "      <td>0</td>\n",
       "      <td>[theory, call, level, process]</td>\n",
       "    </tr>\n",
       "    <tr>\n",
       "      <th>...</th>\n",
       "      <td>...</td>\n",
       "      <td>...</td>\n",
       "      <td>...</td>\n",
       "    </tr>\n",
       "    <tr>\n",
       "      <th>18152</th>\n",
       "      <td>The term culture refers to all of the beliefs...</td>\n",
       "      <td>1</td>\n",
       "      <td>[term, culture, refer, belief, custom, art, tr...</td>\n",
       "    </tr>\n",
       "    <tr>\n",
       "      <th>18153</th>\n",
       "      <td>Culture is transmitted to people through lang...</td>\n",
       "      <td>0</td>\n",
       "      <td>[culture, transmit, people, language, model, c...</td>\n",
       "    </tr>\n",
       "    <tr>\n",
       "      <th>18154</th>\n",
       "      <td>4306 . Another method for assessment of perso...</td>\n",
       "      <td>0</td>\n",
       "      <td>[method, assessment, personality, projective, ...</td>\n",
       "    </tr>\n",
       "    <tr>\n",
       "      <th>18155</th>\n",
       "      <td>This kind of test relies on one of the defens...</td>\n",
       "      <td>1</td>\n",
       "      <td>[kind, test, rely, defense, mechanism, propose...</td>\n",
       "    </tr>\n",
       "    <tr>\n",
       "      <th>18156</th>\n",
       "      <td>4309 . A third projective test is the Rotter ...</td>\n",
       "      <td>0</td>\n",
       "      <td>[projective, test, rotter, incomplete, sentenc...</td>\n",
       "    </tr>\n",
       "  </tbody>\n",
       "</table>\n",
       "<p>18157 rows × 3 columns</p>\n",
       "</div>"
      ],
      "text/plain": [
       "                                                Sentence  HasDef  \\\n",
       "0       3918 . You may recall that 6 x 6 = 36 , 6 x 7...       0   \n",
       "1       Memorizing these facts is rehearsal . Another...       1   \n",
       "2       Chunking is useful when trying to remember in...       0   \n",
       "3       3921 . Use elaborative rehearsal : In a famou...       1   \n",
       "4          Their theory is called levels of processing .       0   \n",
       "...                                                  ...     ...   \n",
       "18152   The term culture refers to all of the beliefs...       1   \n",
       "18153   Culture is transmitted to people through lang...       0   \n",
       "18154   4306 . Another method for assessment of perso...       0   \n",
       "18155   This kind of test relies on one of the defens...       1   \n",
       "18156   4309 . A third projective test is the Rotter ...       0   \n",
       "\n",
       "                                                  Parsed  \n",
       "0                                      [recall, x, x, x]  \n",
       "1      [memorizing, fact, rehearsal, strategy, chunk,...  \n",
       "2      [chunking, useful, try, remember, information,...  \n",
       "3      [use, elaborative, rehearsal, famous, article,...  \n",
       "4                         [theory, call, level, process]  \n",
       "...                                                  ...  \n",
       "18152  [term, culture, refer, belief, custom, art, tr...  \n",
       "18153  [culture, transmit, people, language, model, c...  \n",
       "18154  [method, assessment, personality, projective, ...  \n",
       "18155  [kind, test, rely, defense, mechanism, propose...  \n",
       "18156  [projective, test, rotter, incomplete, sentenc...  \n",
       "\n",
       "[18157 rows x 3 columns]"
      ]
     },
     "execution_count": 5,
     "metadata": {},
     "output_type": "execute_result"
    }
   ],
   "source": [
    "deft_loader.preprocess_data(trainframe)\n",
    "deft_loader.preprocess_data(devframe)\n",
    "trainframe"
   ]
  },
  {
   "cell_type": "markdown",
   "metadata": {},
   "source": [
    "## Cleaning dataset\n",
    "We make the following findings from the data shown above: \n",
    "- There are sentences which are likely to be of **very low importance** and contribution to the dataset. **Identifying and removing** these sentences can improve the classficiation process. Look for example at instance 1 from above, This list `[recall, x, x, x]` probably won't be of any importance when used with the classifier. \n",
    "\n",
    "\n",
    "- Devised method inferred from what the data looks like: **Only keep instances with number of tokens more than or equal to 5 tokens.**\n",
    "\n",
    "\n",
    "\n",
    "\n",
    "- When this method is applied, **1,151 instances of non definitions** are removed while **120 only sentences that are definition** are removed. That proves that sentences with less than 5 tokens could be very less important to our work and also indeed helps to reslove the class imbalance problem in dataset a little bit.\n",
    "\n",
    "\n",
    "- Secondly, since we found out that the corpus has duplicates when exploring above. **Removing duplicates** is the second method we employ in our cleaning process. "
   ]
  },
  {
   "cell_type": "code",
   "execution_count": 6,
   "metadata": {},
   "outputs": [
    {
     "name": "stdout",
     "output_type": "stream",
     "text": [
      "\n",
      "Head of  train  Dataframe:\n",
      "==============================================================\n",
      "                                            Sentence  HasDef  \\\n",
      "1   Memorizing these facts is rehearsal . Another...       1   \n",
      "2   Chunking is useful when trying to remember in...       0   \n",
      "3   3921 . Use elaborative rehearsal : In a famou...       1   \n",
      "5   If we want to remember a piece of information...       0   \n",
      "6   3924 . Cognitive development involves learnin...       1   \n",
      "\n",
      "                                              Parsed  \n",
      "1  [memorizing, fact, rehearsal, strategy, chunk,...  \n",
      "2  [chunking, useful, try, remember, information,...  \n",
      "3  [use, elaborative, rehearsal, famous, article,...  \n",
      "5  [want, remember, piece, information, think, de...  \n",
      "6  [cognitive, development, involve, learn, atten...  \n",
      "==============================================================\n",
      "Number of instances of  train is 15630\n",
      "==============================================================\n",
      "Statistics of Sentences:\n",
      "==============================================================\n",
      "count                                                 15630\n",
      "unique                                                15630\n",
      "top        Midterm elections are held because all member...\n",
      "freq                                                      1\n",
      "Name: Sentence, dtype: object\n",
      "\n",
      "Head of  dev  Dataframe:\n",
      "==============================================================\n",
      "                                            Sentence  HasDef  \\\n",
      "0   309 . Both photosystems have the same basic s...       1   \n",
      "1   Each photosystem is serviced by the light - h...       0   \n",
      "2   The absorption of a single photon or distinct...       0   \n",
      "3   390 . Mistakes in the duplication or distribu...       0   \n",
      "4   To prevent a compromised cell from continuing...       0   \n",
      "\n",
      "                                              Parsed  \n",
      "0  [photosystem, basic, structure, numb, antenna,...  \n",
      "1  [photosystem, service, light, harvest, complex...  \n",
      "2  [absorption, single, photon, distinct, quantit...  \n",
      "3  [mistakes, duplication, distribution, chromoso...  \n",
      "4  [prevent, compromise, cell, continue, divide, ...  \n",
      "==============================================================\n",
      "Number of instances of  dev is 785\n",
      "==============================================================\n",
      "Statistics of Sentences:\n",
      "==============================================================\n",
      "count                                                   785\n",
      "unique                                                  785\n",
      "top        In financial capital markets , banks are an e...\n",
      "freq                                                      1\n",
      "Name: Sentence, dtype: object\n"
     ]
    }
   ],
   "source": [
    "deft_loader.clean_data(trainframe)\n",
    "deft_loader.clean_data(devframe)\n",
    "deft_loader.explore_data(trainframe, \"train\")\n",
    "deft_loader.explore_data(devframe, \"dev\")"
   ]
  },
  {
   "cell_type": "markdown",
   "metadata": {},
   "source": [
    "## Results at the end of the process\n",
    "- There are **15,630 instances** for training and **785 instances** for evaluation left after the whole process is done.\n",
    "\n",
    "\n",
    "- There is still a clear imbalance between the two classes that we have to take care of and consider. To deal with this imbalance, techniques like SMOTE (Synthetic Minority Over-sampling) technique or using class weights while classififcation."
   ]
  },
  {
   "cell_type": "code",
   "execution_count": 7,
   "metadata": {
    "scrolled": false
   },
   "outputs": [
    {
     "data": {
      "text/plain": [
       "<matplotlib.axes._subplots.AxesSubplot at 0x7fdda0a3d390>"
      ]
     },
     "execution_count": 7,
     "metadata": {},
     "output_type": "execute_result"
    },
    {
     "data": {
      "image/png": "[encoded data removed]",
      "text/plain": [
       "<Figure size 432x288 with 1 Axes>"
      ]
     },
     "metadata": {
      "needs_background": "light"
     },
     "output_type": "display_data"
    }
   ],
   "source": [
    "# Showing classes imbalance state after cleaning process.\n",
    "trainframe.HasDef.value_counts().plot.bar()"
   ]
  }
 ],
 "metadata": {
  "kernelspec": {
   "display_name": "Python 3",
   "language": "python",
   "name": "python3"
  },
  "language_info": {
   "codemirror_mode": {
    "name": "ipython",
    "version": 3
   },
   "file_extension": ".py",
   "mimetype": "text/x-python",
   "name": "python",
   "nbconvert_exporter": "python",
   "pygments_lexer": "ipython3",
   "version": "3.7.5"
  }
 },
 "nbformat": 4,
 "nbformat_minor": 2
}
