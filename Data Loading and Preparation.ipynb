{
 "cells": [
  {
   "cell_type": "markdown",
   "metadata": {},
   "source": [
    "# Data Loading and Preparation\n",
    "In this notebook we show: \n",
    "- How to use our data loader implementation specifically built for the DeftCorpus dataset ?\n",
    "- How we prepared the DeftCorpus dataset for usage for Sentence Definition Classification ?"
   ]
  },
  {
   "cell_type": "code",
   "execution_count": 39,
   "metadata": {},
   "outputs": [],
   "source": [
    "#imports cell\n",
    "import pandas as pd\n",
    "from source.data_loader import DeftCorpusLoader"
   ]
  },
  {
   "cell_type": "markdown",
   "metadata": {},
   "source": [
    "## Loading dataset for classification using DeftCorpusLoader\n",
    "\n",
    "Possible Steps for Class Usages:\n",
    "\n",
    "- Create instance of the class, with the path to your **\"data\" folder** from \"deft_corpus\" folder.\n",
    "\n",
    "\n",
    "- Call `load_classification_data` on class instance with **no arguments passed**, this will create two folders in \"deft_files\" folder by default including the re-formatted for classification task. Then will load these files and return two dataframes. The two dataframes include two splits, a training split and a development split (used for testing purposes during Training phase of Competition)\n",
    "\n",
    "\n",
    "- Alternatively, you can call `convert_to_classififcation_format` on class instance with **no arguments passed or pass arguments to specify folders and not use defaults** to first convert and create the two folders. The, call `load_classification_data` with the folders paths created from by the first method. This alternative way is provided for those who intend to work with **their own folder paths rather than the provided defaults.**\n",
    "\n",
    "*In this notebook, we use the rather easier and preferred method one.*"
   ]
  },
  {
   "cell_type": "code",
   "execution_count": 2,
   "metadata": {},
   "outputs": [],
   "source": [
    "deft_loader = DeftCorpusLoader(\"deft_corpus/data\")\n",
    "trainframe, devframe = deft_loader.load_classification_data()"
   ]
  },
  {
   "cell_type": "markdown",
   "metadata": {},
   "source": [
    "### Exploring dataset \n",
    "- There are two columns: `Sentence` which has the sentence text, `HasDef` boolean value to determine whether it is a definition or not. \n",
    "- There are **18,157 instances for training** and **865 instances for development** (testing purposes here)"
   ]
  },
  {
   "cell_type": "code",
   "execution_count": 3,
   "metadata": {},
   "outputs": [
    {
     "name": "stdout",
     "output_type": "stream",
     "text": [
      "\n",
      "Head of  train  Dataframe:\n",
      "==============================================================\n",
      "                                            Sentence  HasDef\n",
      "0   3918 . You may recall that 6 x 6 = 36 , 6 x 7...       0\n",
      "1   Memorizing these facts is rehearsal . Another...       1\n",
      "2   Chunking is useful when trying to remember in...       0\n",
      "3   3921 . Use elaborative rehearsal : In a famou...       1\n",
      "4      Their theory is called levels of processing .       0\n",
      "==============================================================\n",
      "Number of instances of  train is 18157\n",
      "\n",
      "Head of  dev  Dataframe:\n",
      "==============================================================\n",
      "                                            Sentence  HasDef\n",
      "0   309 . Both photosystems have the same basic s...       1\n",
      "1   Each photosystem is serviced by the light - h...       0\n",
      "2   The absorption of a single photon or distinct...       0\n",
      "3   390 . Mistakes in the duplication or distribu...       0\n",
      "4   To prevent a compromised cell from continuing...       0\n",
      "==============================================================\n",
      "Number of instances of  dev is 865\n"
     ]
    }
   ],
   "source": [
    "deft_loader.explore_data(trainframe, \"train\")\n",
    "deft_loader.explore_data(devframe, \"dev\")"
   ]
  },
  {
   "cell_type": "markdown",
   "metadata": {},
   "source": [
    "### Exploring classes and classification problem\n",
    "- There are **12,143 instances** of class label `0` ---> `This sentence is not a definition`.\n",
    "- There are **6,014 instances** of class label `1` ---> `This sentence is a definition`.\n",
    "- Determining problem: **Binary Classification Problem.**\n",
    "- A clear **classes imbalance** case exists in our data. "
   ]
  },
  {
   "cell_type": "code",
   "execution_count": 35,
   "metadata": {
    "scrolled": false
   },
   "outputs": [
    {
     "data": {
      "text/plain": [
       "<matplotlib.axes._subplots.AxesSubplot at 0x7f0afd4b8050>"
      ]
     },
     "execution_count": 35,
     "metadata": {},
     "output_type": "execute_result"
    },
    {
     "data": {
      "image/png": "[encoded data removed]",
      "text/plain": [
       "<Figure size 432x288 with 1 Axes>"
      ]
     },
     "metadata": {
      "needs_background": "light"
     },
     "output_type": "display_data"
    }
   ],
   "source": [
    "trainframe.HasDef.value_counts().plot.bar()"
   ]
  },
  {
   "cell_type": "markdown",
   "metadata": {},
   "source": [
    "## Preprocessing dataset using Spacy\n",
    "- Tokenizing corpus sentences into word tokens.\n",
    "- Lemmatization of each token. \n",
    "- Lowercase each token. \n",
    "- Removing stop words, punctuations, spaces and non alphanumeric characters.\n",
    "- Adds a column on the dataframe for preprocessed tokens according to above rules."
   ]
  },
  {
   "cell_type": "code",
   "execution_count": 5,
   "metadata": {},
   "outputs": [
    {
     "data": {
      "text/html": [
       "<div>\n",
       "<style scoped>\n",
       "    .dataframe tbody tr th:only-of-type {\n",
       "        vertical-align: middle;\n",
       "    }\n",
       "\n",
       "    .dataframe tbody tr th {\n",
       "        vertical-align: top;\n",
       "    }\n",
       "\n",
       "    .dataframe thead th {\n",
       "        text-align: right;\n",
       "    }\n",
       "</style>\n",
       "<table border=\"1\" class=\"dataframe\">\n",
       "  <thead>\n",
       "    <tr style=\"text-align: right;\">\n",
       "      <th></th>\n",
       "      <th>Sentence</th>\n",
       "      <th>HasDef</th>\n",
       "      <th>Parsed</th>\n",
       "    </tr>\n",
       "  </thead>\n",
       "  <tbody>\n",
       "    <tr>\n",
       "      <th>0</th>\n",
       "      <td>3918 . You may recall that 6 x 6 = 36 , 6 x 7...</td>\n",
       "      <td>0</td>\n",
       "      <td>[recall, x, x, x]</td>\n",
       "    </tr>\n",
       "    <tr>\n",
       "      <th>1</th>\n",
       "      <td>Memorizing these facts is rehearsal . Another...</td>\n",
       "      <td>1</td>\n",
       "      <td>[memorizing, fact, rehearsal, strategy, chunk,...</td>\n",
       "    </tr>\n",
       "    <tr>\n",
       "      <th>2</th>\n",
       "      <td>Chunking is useful when trying to remember in...</td>\n",
       "      <td>0</td>\n",
       "      <td>[chunking, useful, try, remember, information,...</td>\n",
       "    </tr>\n",
       "    <tr>\n",
       "      <th>3</th>\n",
       "      <td>3921 . Use elaborative rehearsal : In a famou...</td>\n",
       "      <td>1</td>\n",
       "      <td>[use, elaborative, rehearsal, famous, article,...</td>\n",
       "    </tr>\n",
       "    <tr>\n",
       "      <th>4</th>\n",
       "      <td>Their theory is called levels of processing .</td>\n",
       "      <td>0</td>\n",
       "      <td>[theory, call, level, process]</td>\n",
       "    </tr>\n",
       "    <tr>\n",
       "      <th>...</th>\n",
       "      <td>...</td>\n",
       "      <td>...</td>\n",
       "      <td>...</td>\n",
       "    </tr>\n",
       "    <tr>\n",
       "      <th>18152</th>\n",
       "      <td>The term culture refers to all of the beliefs...</td>\n",
       "      <td>1</td>\n",
       "      <td>[term, culture, refer, belief, custom, art, tr...</td>\n",
       "    </tr>\n",
       "    <tr>\n",
       "      <th>18153</th>\n",
       "      <td>Culture is transmitted to people through lang...</td>\n",
       "      <td>0</td>\n",
       "      <td>[culture, transmit, people, language, model, c...</td>\n",
       "    </tr>\n",
       "    <tr>\n",
       "      <th>18154</th>\n",
       "      <td>4306 . Another method for assessment of perso...</td>\n",
       "      <td>0</td>\n",
       "      <td>[method, assessment, personality, projective, ...</td>\n",
       "    </tr>\n",
       "    <tr>\n",
       "      <th>18155</th>\n",
       "      <td>This kind of test relies on one of the defens...</td>\n",
       "      <td>1</td>\n",
       "      <td>[kind, test, rely, defense, mechanism, propose...</td>\n",
       "    </tr>\n",
       "    <tr>\n",
       "      <th>18156</th>\n",
       "      <td>4309 . A third projective test is the Rotter ...</td>\n",
       "      <td>0</td>\n",
       "      <td>[projective, test, rotter, incomplete, sentenc...</td>\n",
       "    </tr>\n",
       "  </tbody>\n",
       "</table>\n",
       "<p>18157 rows × 3 columns</p>\n",
       "</div>"
      ],
      "text/plain": [
       "                                                Sentence  HasDef  \\\n",
       "0       3918 . You may recall that 6 x 6 = 36 , 6 x 7...       0   \n",
       "1       Memorizing these facts is rehearsal . Another...       1   \n",
       "2       Chunking is useful when trying to remember in...       0   \n",
       "3       3921 . Use elaborative rehearsal : In a famou...       1   \n",
       "4          Their theory is called levels of processing .       0   \n",
       "...                                                  ...     ...   \n",
       "18152   The term culture refers to all of the beliefs...       1   \n",
       "18153   Culture is transmitted to people through lang...       0   \n",
       "18154   4306 . Another method for assessment of perso...       0   \n",
       "18155   This kind of test relies on one of the defens...       1   \n",
       "18156   4309 . A third projective test is the Rotter ...       0   \n",
       "\n",
       "                                                  Parsed  \n",
       "0                                      [recall, x, x, x]  \n",
       "1      [memorizing, fact, rehearsal, strategy, chunk,...  \n",
       "2      [chunking, useful, try, remember, information,...  \n",
       "3      [use, elaborative, rehearsal, famous, article,...  \n",
       "4                         [theory, call, level, process]  \n",
       "...                                                  ...  \n",
       "18152  [term, culture, refer, belief, custom, art, tr...  \n",
       "18153  [culture, transmit, people, language, model, c...  \n",
       "18154  [method, assessment, personality, projective, ...  \n",
       "18155  [kind, test, rely, defense, mechanism, propose...  \n",
       "18156  [projective, test, rotter, incomplete, sentenc...  \n",
       "\n",
       "[18157 rows x 3 columns]"
      ]
     },
     "execution_count": 5,
     "metadata": {},
     "output_type": "execute_result"
    }
   ],
   "source": [
    "deft_loader.preprocess_data(trainframe)\n",
    "trainframe"
   ]
  },
  {
   "cell_type": "code",
   "execution_count": 49,
   "metadata": {},
   "outputs": [],
   "source": [
    "from sklearn.linear_model import LogisticRegression\n",
    "from sklearn.feature_extraction.text import CountVectorizer, TfidfVectorizer, HashingVectorizer\n",
    "from sklearn.pipeline import Pipeline\n",
    "from sklearn.naive_bayes import MultinomialNB\n",
    "from sklearn import tree\n",
    "classifier = LogisticRegression()\n",
    "import spacy\n",
    "from spacy.lang.en.stop_words import STOP_WORDS\n",
    "from spacy.lang.en import English\n",
    "parser = English()\n",
    "\n",
    "# Create pipeline using Bag of Words\n",
    "pipe = Pipeline([('vectorizer', CountVectorizer(tokenizer = _spacy_preprocessor)),\n",
    "                 ('classifier', classifier)])\n"
   ]
  },
  {
   "cell_type": "code",
   "execution_count": 50,
   "metadata": {},
   "outputs": [
    {
     "name": "stderr",
     "output_type": "stream",
     "text": [
      "/home/zawawy/Public/anaconda3/lib/python3.7/site-packages/sklearn/linear_model/logistic.py:432: FutureWarning: Default solver will be changed to 'lbfgs' in 0.22. Specify a solver to silence this warning.\n",
      "  FutureWarning)\n"
     ]
    },
    {
     "data": {
      "text/plain": [
       "Pipeline(memory=None,\n",
       "         steps=[('vectorizer',\n",
       "                 CountVectorizer(analyzer='word', binary=False,\n",
       "                                 decode_error='strict',\n",
       "                                 dtype=<class 'numpy.int64'>, encoding='utf-8',\n",
       "                                 input='content', lowercase=True, max_df=1.0,\n",
       "                                 max_features=None, min_df=1,\n",
       "                                 ngram_range=(1, 1), preprocessor=None,\n",
       "                                 stop_words=None, strip_accents=None,\n",
       "                                 token_pattern='(?u)\\\\b\\\\w\\\\w+\\\\b',\n",
       "                                 tokenizer=<function _spacy_preprocessor at 0x7f0afcc91440>,\n",
       "                                 vocabulary=None)),\n",
       "                ('classifier',\n",
       "                 LogisticRegression(C=1.0, class_weight=None, dual=False,\n",
       "                                    fit_intercept=True, intercept_scaling=1,\n",
       "                                    l1_ratio=None, max_iter=100,\n",
       "                                    multi_class='warn', n_jobs=None,\n",
       "                                    penalty='l2', random_state=None,\n",
       "                                    solver='warn', tol=0.0001, verbose=0,\n",
       "                                    warm_start=False))],\n",
       "         verbose=False)"
      ]
     },
     "execution_count": 50,
     "metadata": {},
     "output_type": "execute_result"
    }
   ],
   "source": [
    "pipe.fit(trainframe[\"Sentence\"], trainframe[\"HasDef\"])"
   ]
  },
  {
   "cell_type": "code",
   "execution_count": 51,
   "metadata": {},
   "outputs": [
    {
     "name": "stdout",
     "output_type": "stream",
     "text": [
      "Logistic Regression Accuracy: 0.7572254335260116\n",
      "Logistic Regression Precision: 0.6743119266055045\n",
      "Logistic Regression Recall: 0.513986013986014\n"
     ]
    }
   ],
   "source": [
    "from sklearn import metrics\n",
    "# Predicting with a test dataset\n",
    "predicted = pipe.predict(devframe[\"Sentence\"])\n",
    "y_test = devframe[\"HasDef\"]\n",
    "# Model Accuracy\n",
    "print(\"Logistic Regression Accuracy:\",metrics.accuracy_score(y_test, predicted))\n",
    "print(\"Logistic Regression Precision:\",metrics.precision_score(y_test, predicted))\n",
    "print(\"Logistic Regression Recall:\",metrics.recall_score(y_test, predicted))"
   ]
  },
  {
   "cell_type": "code",
   "execution_count": null,
   "metadata": {},
   "outputs": [],
   "source": []
  }
 ],
 "metadata": {
  "kernelspec": {
   "display_name": "Python 3",
   "language": "python",
   "name": "python3"
  },
  "language_info": {
   "codemirror_mode": {
    "name": "ipython",
    "version": 3
   },
   "file_extension": ".py",
   "mimetype": "text/x-python",
   "name": "python",
   "nbconvert_exporter": "python",
   "pygments_lexer": "ipython3",
   "version": "3.7.5"
  }
 },
 "nbformat": 4,
 "nbformat_minor": 2
}
