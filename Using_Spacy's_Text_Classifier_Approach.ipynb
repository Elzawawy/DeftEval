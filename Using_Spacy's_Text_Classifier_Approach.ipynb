{
  "nbformat": 4,
  "nbformat_minor": 0,
  "metadata": {
    "kernelspec": {
      "name": "python3",
      "display_name": "Python 3"
    },
    "language_info": {
      "codemirror_mode": {
        "name": "ipython",
        "version": 3
      },
      "file_extension": ".py",
      "mimetype": "text/x-python",
      "name": "python",
      "nbconvert_exporter": "python",
      "pygments_lexer": "ipython3",
      "version": "3.7.5"
    },
    "colab": {
      "name": "Using Spacy's Text Classifier Approach.ipynb",
      "provenance": [],
      "collapsed_sections": []
    },
    "accelerator": "GPU"
  },
  "cells": [
    {
      "cell_type": "markdown",
      "metadata": {
        "id": "7ApDTnkAaYZl",
        "colab_type": "text"
      },
      "source": [
        "# Solving the Definition Extraction Problem\n",
        "## Approach 4: Using Spacy's Text Classifier.\n",
        "In this approach, we decided to give **Spacy's amazing Models Pipeline** a shot. Here is a summary of what are spaCy’s models from the [Spacy Docs](https://spacy.io/usage/training#basics):\n",
        "\n",
        "- They are statistical and every “decision” they make is a prediction. This prediction is based on the examples the model has seen during training. To train a model, you first need training data. \n",
        "\n",
        "\n",
        "- The model is then shown the unlabelled text and will make a prediction then we give the model feedback on its prediction in the form of an error gradient of the loss function that calculates the difference between the training example and the expected output. The greater the difference, the more significant the gradient and the updates to our model.\n",
        "\n",
        "\n",
        "- We want the model to come up with a theory that can be generalized across other examples. If you only test the model with the data it was trained on, you’ll have no idea how well it’s generalizing. So, that is why we also need evaluation data to test our model.\n",
        "\n",
        "![](https://spacy.io/training-73950e71e6b59678754a87d6cf1481f9.svg)\n"
      ]
    },
    {
      "cell_type": "markdown",
      "metadata": {
        "id": "d4ep69Mqagkt",
        "colab_type": "text"
      },
      "source": [
        "### Optional: Run the next cell only if you are using Google Colab to run this notebook."
      ]
    },
    {
      "cell_type": "code",
      "metadata": {
        "id": "AwbEXPOZaspE",
        "colab_type": "code",
        "colab": {
          "base_uri": "https://localhost:8080/",
          "height": 105
        },
        "outputId": "64405886-87c7-4509-da87-1edc40616142"
      },
      "source": [
        "from google.colab import drive\n",
        "from importlib.machinery import SourceFileLoader\n",
        "!python -m spacy download en_core_web_lg\n",
        "STORAGE_PATH = \"gdrive/My Drive/deft_corpus/data\"\n",
        "OUTPUT_PATH = \"gdrive/My Drive/deft_eval_models/spacy-model\"\n",
        "\n",
        "drive.mount('/content/gdrive', force_remount=True)\n",
        "data_loader = SourceFileLoader('source','gdrive/My Drive/source/data_loader.py').load_module()\n",
        "classifiers = SourceFileLoader('source','gdrive/My Drive/source/classifiers.py').load_module()\n",
        "DeftCorpusLoader = data_loader.DeftCorpusLoader\n",
        "DeftSpacyClassifier = classifiers.DeftSpacyClassifier"
      ],
      "execution_count": 1,
      "outputs": [
        {
          "output_type": "stream",
          "text": [
            "Requirement already satisfied: en_core_web_lg==2.1.0 from https://github.com/explosion/spacy-models/releases/download/en_core_web_lg-2.1.0/en_core_web_lg-2.1.0.tar.gz#egg=en_core_web_lg==2.1.0 in /usr/local/lib/python3.6/dist-packages (2.1.0)\n",
            "\u001b[38;5;2m✔ Download and installation successful\u001b[0m\n",
            "You can now load the model via spacy.load('en_core_web_lg')\n",
            "Mounted at /content/gdrive\n"
          ],
          "name": "stdout"
        }
      ]
    },
    {
      "cell_type": "markdown",
      "metadata": {
        "id": "okcZco0ibDFL",
        "colab_type": "text"
      },
      "source": [
        "### If you are runing Locally, run this cell instead of the above one."
      ]
    },
    {
      "cell_type": "code",
      "metadata": {
        "id": "vtx2QkKfaYZo",
        "colab_type": "code",
        "colab": {}
      },
      "source": [
        "#imports cell\n",
        "from source.data_loader import DeftCorpusLoader\n",
        "from source.classifiers import DeftSpacyClassifier\n",
        "# Download a language module to start with instead of building a blank model. Comment this line out if you downloaded it though CLI already.\n",
        "!python -m spacy download en_core_web_lg\n",
        "STORAGE_PATH = \"deft_corpus/data\"\n",
        "OUTPUT_PATH = \"./deft_eval_models/spacy-model\""
      ],
      "execution_count": 0,
      "outputs": []
    },
    {
      "cell_type": "markdown",
      "metadata": {
        "id": "UuUnplJoaYZt",
        "colab_type": "text"
      },
      "source": [
        "### Adding a text classifier to a spaCy model\n",
        "We followed the step-by-step guide from [spacy's example](https://spacy.io/usage/training#textcat), to make our own implementation of Spacy's Text Classififer for Deft Corpus.\n",
        "\n",
        "**What do we call it ? Duhh....the `DeftSpacyClassifier`!** "
      ]
    },
    {
      "cell_type": "code",
      "metadata": {
        "id": "jpItOq5saYZu",
        "colab_type": "code",
        "colab": {
          "base_uri": "https://localhost:8080/",
          "height": 34
        },
        "outputId": "1d8df630-ca39-4f3c-8b02-8d5b41d45356"
      },
      "source": [
        "positive = \"DEFINTION\"\n",
        "negative = \"NOT DEFINITION\"\n",
        "deft_classifier = DeftSpacyClassifier(positive_label= positive, negative_label= negative)"
      ],
      "execution_count": 2,
      "outputs": [
        {
          "output_type": "stream",
          "text": [
            "Loaded default model '<module 'en_core_web_lg' from '/usr/local/lib/python3.6/dist-packages/en_core_web_lg/__init__.py'>'\n"
          ],
          "name": "stdout"
        }
      ]
    },
    {
      "cell_type": "markdown",
      "metadata": {
        "id": "62ODVyyuaYZz",
        "colab_type": "text"
      },
      "source": [
        "### Loading dataset and adjusting it's labels for Spacy Format\n",
        "We load the dataset as everytime the main difference now is that we have to preform an extra step. We have to change the label format to match the Spacy Labeling Format. Instead of a binary vector for labels we will have for each label value a dict indicating whether this instance is a defintion or not.\n",
        "\n",
        "Example: {\"DEFINITION\": True, \"NOT DEFINITION\": False}"
      ]
    },
    {
      "cell_type": "code",
      "metadata": {
        "id": "LWp3DGkdaYZ0",
        "colab_type": "code",
        "colab": {}
      },
      "source": [
        "deft_loader = DeftCorpusLoader(STORAGE_PATH)\n",
        "trainframe, devframe = deft_loader.load_classification_data(preprocess=True, clean=True)\n",
        "train_cats = [{positive: bool(y), negative: not bool(y)} for y in trainframe[\"HasDef\"]]\n",
        "dev_cats = [{positive: bool(y), negative: not bool(y)} for y in devframe[\"HasDef\"]]"
      ],
      "execution_count": 0,
      "outputs": []
    },
    {
      "cell_type": "markdown",
      "metadata": {
        "id": "4W7kCDUXaYZ4",
        "colab_type": "text"
      },
      "source": [
        "### Start the training loop"
      ]
    },
    {
      "cell_type": "code",
      "metadata": {
        "id": "AenLeFjYaYZ5",
        "colab_type": "code",
        "colab": {
          "base_uri": "https://localhost:8080/",
          "height": 153
        },
        "outputId": "3adaa22b-2a44-4197-d3ab-ad2f1654857f"
      },
      "source": [
        "deft_classifier.fit(trainframe[\"Sentence\"], devframe[\"Sentence\"],\n",
        "                   train_cats, dev_cats,output_dir=OUTPUT_PATH)"
      ],
      "execution_count": 15,
      "outputs": [
        {
          "output_type": "stream",
          "text": [
            "Training the model...\n",
            "LOSS \t  P  \t  R  \t  F  \n",
            "0.133\t0.756\t0.495\t0.598\n",
            "0.029\t0.741\t0.553\t0.633\n",
            "0.011\t0.736\t0.618\t0.672\n",
            "0.006\t0.736\t0.680\t0.707\n",
            "0.003\t0.737\t0.702\t0.719\n",
            "Saved model to gdrive/My Drive/deft_eval_models/spacy-model\n"
          ],
          "name": "stdout"
        }
      ]
    },
    {
      "cell_type": "markdown",
      "metadata": {
        "id": "6Z5ZBanpaYZ8",
        "colab_type": "text"
      },
      "source": [
        "### Reporting Full details of Evaluation Score on dev data\n",
        "\n",
        "- This approach scored the highest values reported in our work. \n",
        "- **P/R/F1 for Positive class: 0.74/0.70/0.72**\n",
        "- **P/R/F1 for Negative class: 0.84/0.86/0.85**\n",
        "- **Official score is F1 for positive class = 0.72**"
      ]
    },
    {
      "cell_type": "code",
      "metadata": {
        "id": "_2VoI8o2aYZ9",
        "colab_type": "code",
        "colab": {
          "base_uri": "https://localhost:8080/",
          "height": 170
        },
        "outputId": "c0370756-6858-41ce-f5f5-88b8b4fd99c6"
      },
      "source": [
        "deft_classifier.score(devframe[\"Sentence\"], devframe[\"HasDef\"])"
      ],
      "execution_count": 21,
      "outputs": [
        {
          "output_type": "stream",
          "text": [
            "              precision    recall  f1-score   support\n",
            "\n",
            "           0       0.84      0.86      0.85       510\n",
            "           1       0.74      0.70      0.72       275\n",
            "\n",
            "    accuracy                           0.81       785\n",
            "   macro avg       0.79      0.78      0.79       785\n",
            "weighted avg       0.81      0.81      0.81       785\n",
            "\n"
          ],
          "name": "stdout"
        }
      ]
    }
  ]
}