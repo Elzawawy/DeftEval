{
 "cells": [
  {
   "cell_type": "markdown",
   "metadata": {},
   "source": [
    "# Solving the Definition Extraction Problem\n",
    "## Approach 4: Using Spacy's Text Classifier.\n",
    "In this approach, we decided to give **Spacy's amazing Models Pipeline** a shot. Here is a summary of what are spaCy’s models from the [Spacy Docs](https://spacy.io/usage/training#basics):\n",
    "\n",
    "- They are statistical and every “decision” they make is a prediction. This prediction is based on the examples the model has seen during training. To train a model, you first need training data. \n",
    "\n",
    "\n",
    "- The model is then shown the unlabelled text and will make a prediction then we give the model feedback on its prediction in the form of an error gradient of the loss function that calculates the difference between the training example and the expected output. The greater the difference, the more significant the gradient and the updates to our model.\n",
    "\n",
    "\n",
    "- We want the model to come up with a theory that can be generalized across other examples. If you only test the model with the data it was trained on, you’ll have no idea how well it’s generalizing. So, that is why we also need evaluation data to test our model.\n",
    "\n",
    "![](https://spacy.io/training-73950e71e6b59678754a87d6cf1481f9.svg)\n"
   ]
  },
  {
   "cell_type": "code",
   "execution_count": null,
   "metadata": {},
   "outputs": [],
   "source": [
    "#imports cell\n",
    "from source.data_loader import DeftCorpusLoader\n",
    "from source.classifiers import DeftSpacyClassifier"
   ]
  },
  {
   "cell_type": "markdown",
   "metadata": {},
   "source": [
    "### Adding a text classifier to a spaCy model\n",
    "We followed the step-by-step guide from [spacy's example](https://spacy.io/usage/training#textcat), to make our own implementation of Spacy's Text Classififer for Deft Corpus.\n",
    "\n",
    "**What do we call it ? Duhh....the `DeftSpacyClassifier`!** "
   ]
  },
  {
   "cell_type": "code",
   "execution_count": null,
   "metadata": {},
   "outputs": [],
   "source": [
    "positive = \"DEFINTION\"\n",
    "negative = \"NOT DEFINITION\"\n",
    "deft_classifier = DeftSpacyClassifier(positive_label= positive, negative_label= negative)"
   ]
  },
  {
   "cell_type": "markdown",
   "metadata": {},
   "source": [
    "### Loading dataset and adjusting it's labels for Spacy Format\n",
    "We load the dataset as everytime the main difference now is that we have to preform an extra step. We have to change the label format to match the Spacy Labeling Format. Instead of a binary vector for labels we will have for each label value a dict indicating whether this instance is a defintion or not.\n",
    "\n",
    "Example: {\"DEFINITION\": True, \"NOT DEFINITION\": False}"
   ]
  },
  {
   "cell_type": "code",
   "execution_count": null,
   "metadata": {},
   "outputs": [],
   "source": [
    "deft_loader = DeftCorpusLoader(\"deft_corpus/data\")\n",
    "trainframe, devframe = deft_loader.load_classification_data(preprocess=True, clean=True)\n",
    "train_cats = [{positive: bool(y), negative: not bool(y)} for y in trainframe[\"HasDef\"]]\n",
    "dev_cats = [{positive: bool(y), negative: not bool(y)} for y in devframe[\"HasDef\"]]"
   ]
  },
  {
   "cell_type": "markdown",
   "metadata": {},
   "source": [
    "### Start the training loop"
   ]
  },
  {
   "cell_type": "code",
   "execution_count": null,
   "metadata": {},
   "outputs": [],
   "source": [
    "deft_classifier.fit(trainframe[\"Sentence\"], devframe[\"Sentence\"],\n",
    "                   train_cats, dev_cats,output_dir='./models/spacy-model')"
   ]
  },
  {
   "cell_type": "markdown",
   "metadata": {},
   "source": [
    "### Reporting Full details of Evaluation Score on dev data"
   ]
  },
  {
   "cell_type": "code",
   "execution_count": null,
   "metadata": {},
   "outputs": [],
   "source": [
    "deft_classifier.score(devframe[\"Sentence\"], dev_cats)"
   ]
  }
 ],
 "metadata": {
  "kernelspec": {
   "display_name": "Python 3",
   "language": "python",
   "name": "python3"
  },
  "language_info": {
   "codemirror_mode": {
    "name": "ipython",
    "version": 3
   },
   "file_extension": ".py",
   "mimetype": "text/x-python",
   "name": "python",
   "nbconvert_exporter": "python",
   "pygments_lexer": "ipython3",
   "version": "3.7.5"
  }
 },
 "nbformat": 4,
 "nbformat_minor": 2
}
