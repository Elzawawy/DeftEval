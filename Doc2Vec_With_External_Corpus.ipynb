{
  "nbformat": 4,
  "nbformat_minor": 0,
  "metadata": {
    "colab": {
      "name": "Doc2Vec With External Corpus.ipynb",
      "provenance": [],
      "collapsed_sections": []
    },
    "kernelspec": {
      "name": "python3",
      "display_name": "Python 3"
    },
    "accelerator": "GPU"
  },
  "cells": [
    {
      "cell_type": "markdown",
      "metadata": {
        "id": "9AKBxXvn4GKr",
        "colab_type": "text"
      },
      "source": [
        "# **Solving the Definition Extraction Problem**\n"
      ]
    },
    {
      "cell_type": "markdown",
      "metadata": {
        "id": "apKAmqWk4TTX",
        "colab_type": "text"
      },
      "source": [
        "### **Approach 3: Using Doc2Vec model and Classifiers.**\n",
        "\n",
        "**Doc2Vec** is a Model that represents each Document as a Vector. The goal of Doc2Vec is to create a numeric representation of a document, regardless of its length. So, the input of texts per document can be various while the output is fixed-length vectors.\n",
        "Design of Doc2Vec is based on Word2Vec. But unlike words, documents do not come in logical structures such as words, so the another method has to be found. There are two implementations:\n",
        "\n",
        "1.   Paragraph Vector - Distributed Memory (PV-DM)\n",
        "2.   Paragraph Vector - Distributed Bag of Words (PV-DBOW)\n",
        "\n",
        "**PV-DM** is analogous to Word2Vec continous bag of word CBOW. But instead of using just words to predict the next word, add another feature vector, which is document-unique. So, when training the word vectors W, the document vector D is trained as well, and in the end of training, it holds a numeric representation of the document.\n",
        "\n",
        "![alt text](https://quantdare.com/wp-content/uploads/2019/08/06.png)\n",
        "\n",
        "\n",
        "**PV-DBOW** is analogous to Word2Vec skip gram. Instead of predicting next word, it use a document vector to classify entire words in the document.\n",
        "\n",
        "![alt text](https://quantdare.com/wp-content/uploads/2019/08/07.png)\n",
        "\n",
        "\n",
        "Not: it's recommend to use a combination of both algorithms to infer the vector representation of a document. \n",
        "\n"
      ]
    },
    {
      "cell_type": "code",
      "metadata": {
        "id": "iepXo9YYMjFD",
        "colab_type": "code",
        "outputId": "1543c158-4786-40e2-ad10-b4cbd3c98f7f",
        "colab": {
          "base_uri": "https://localhost:8080/",
          "height": 122
        }
      },
      "source": [
        "from google.colab import drive\n",
        "drive.mount('/content/drive')"
      ],
      "execution_count": 1,
      "outputs": [
        {
          "output_type": "stream",
          "text": [
            "Go to this URL in a browser: https://accounts.google.com/o/oauth2/auth?client_id=947318989803-6bn6qk8qdgf4n4g3pfee6491hc0brc4i.apps.googleusercontent.com&redirect_uri=urn%3aietf%3awg%3aoauth%3a2.0%3aoob&response_type=code&scope=email%20https%3a%2f%2fwww.googleapis.com%2fauth%2fdocs.test%20https%3a%2f%2fwww.googleapis.com%2fauth%2fdrive%20https%3a%2f%2fwww.googleapis.com%2fauth%2fdrive.photos.readonly%20https%3a%2f%2fwww.googleapis.com%2fauth%2fpeopleapi.readonly\n",
            "\n",
            "Enter your authorization code:\n",
            "··········\n",
            "Mounted at /content/drive\n"
          ],
          "name": "stdout"
        }
      ]
    },
    {
      "cell_type": "code",
      "metadata": {
        "id": "eIVC3zRjkGsH",
        "colab_type": "code",
        "outputId": "5cbd7f3d-f023-4778-9c0a-e20e6e159ff4",
        "colab": {
          "base_uri": "https://localhost:8080/",
          "height": 51
        }
      },
      "source": [
        "!unzip 'drive/My Drive/wikipedia-movie-plots.zip'"
      ],
      "execution_count": 6,
      "outputs": [
        {
          "output_type": "stream",
          "text": [
            "Archive:  drive/My Drive/wikipedia-movie-plots.zip\n",
            "  inflating: wiki_movie_plots_deduped.csv  \n"
          ],
          "name": "stdout"
        }
      ]
    },
    {
      "cell_type": "code",
      "metadata": {
        "id": "s-lpsjP7TWLY",
        "colab_type": "code",
        "outputId": "c749b522-0d9b-42e5-f12a-3cb788af3bb8",
        "colab": {
          "base_uri": "https://localhost:8080/",
          "height": 136
        }
      },
      "source": [
        "import os\n",
        "import nltk\n",
        "import pandas as pd \n",
        "from nltk.tokenize import word_tokenize\n",
        "from nltk.corpus import stopwords\n",
        "from nltk.stem import PorterStemmer\n",
        "from gensim.models.doc2vec import Doc2Vec, TaggedDocument\n",
        "from data_loader import DeftCorpusLoader\n",
        "from sklearn.naive_bayes import GaussianNB\n",
        "from sklearn import tree\n",
        "from sklearn.linear_model import LogisticRegression\n",
        "from sklearn import metrics\n",
        "\n",
        "nltk.download('punkt')\n",
        "nltk.download('stopwords')\n",
        "nltk.download('wordnet')"
      ],
      "execution_count": 4,
      "outputs": [
        {
          "output_type": "stream",
          "text": [
            "[nltk_data] Downloading package punkt to /root/nltk_data...\n",
            "[nltk_data]   Package punkt is already up-to-date!\n",
            "[nltk_data] Downloading package stopwords to /root/nltk_data...\n",
            "[nltk_data]   Package stopwords is already up-to-date!\n",
            "[nltk_data] Downloading package wordnet to /root/nltk_data...\n",
            "[nltk_data]   Package wordnet is already up-to-date!\n"
          ],
          "name": "stdout"
        },
        {
          "output_type": "execute_result",
          "data": {
            "text/plain": [
              "True"
            ]
          },
          "metadata": {
            "tags": []
          },
          "execution_count": 4
        }
      ]
    },
    {
      "cell_type": "markdown",
      "metadata": {
        "id": "_B9mNkQLqSzv",
        "colab_type": "text"
      },
      "source": [
        "### **Load Doc2Vec Model Trainning Data**"
      ]
    },
    {
      "cell_type": "code",
      "metadata": {
        "id": "szLsVqXxYhgz",
        "colab_type": "code",
        "outputId": "bca7bb18-8774-4a26-ffbf-cb0dedfc9216",
        "colab": {
          "base_uri": "https://localhost:8080/",
          "height": 34
        }
      },
      "source": [
        "# Load amazon review reports of movies.\n",
        "with open('wiki_movie_plots_deduped.csv') as data:\n",
        "  corpus_list = pd.read_csv(data, sep=\",\", header = None)\n",
        "corpus_list = corpus_list[7].tolist()[1:]\n",
        "print(\"Corpus legnth: \", len(corpus_list))"
      ],
      "execution_count": 7,
      "outputs": [
        {
          "output_type": "stream",
          "text": [
            "Corpus legnth:  34886\n"
          ],
          "name": "stdout"
        }
      ]
    },
    {
      "cell_type": "code",
      "metadata": {
        "id": "9BrgBWwLmK-9",
        "colab_type": "code",
        "colab": {}
      },
      "source": [
        "stop_words = set(stopwords.words('english'))\n",
        "porter = PorterStemmer()\n",
        "qoutes_list = [\"``\", \"\\\"\\\"\", \"''\"]\n",
        "train_corpus = []\n",
        "for i, sentence in enumerate(corpus_list):\n",
        "  \n",
        "  # Lower all the letters in the sentence\n",
        "  tokens = word_tokenize(sentence.lower())\n",
        "  processed_tokens = []\n",
        "  for j, token in enumerate(tokens):\n",
        "    if not token.isdigit():\n",
        "      if token not in stop_words and len(token) > 1 and token not in qoutes_list:\n",
        "\n",
        "        # Convert each sentence from amazon reviews to list of words that doesn't include\n",
        "        # stop words or any special letters or digits\n",
        "        processed_tokens.append(porter.stem(token))\n",
        "  train_corpus.append(TaggedDocument(words=processed_tokens, tags=[str(i)]))"
      ],
      "execution_count": 0,
      "outputs": []
    },
    {
      "cell_type": "code",
      "metadata": {
        "id": "CmOXCm911oUs",
        "colab_type": "code",
        "colab": {
          "base_uri": "https://localhost:8080/",
          "height": 122
        },
        "outputId": "3dadd61d-a22f-4181-d845-b6fd8a9d100d"
      },
      "source": [
        "train_corpus[:5]"
      ],
      "execution_count": 27,
      "outputs": [
        {
          "output_type": "execute_result",
          "data": {
            "text/plain": [
              "[TaggedDocument(words=['bartend', 'work', 'saloon', 'serv', 'drink', 'custom', 'fill', 'stereotyp', 'irish', 'man', \"'s\", 'bucket', 'beer', 'carri', 'nation', 'follow', 'burst', 'insid', 'assault', 'irish', 'man', 'pull', 'hat', 'eye', 'dump', 'beer', 'head', 'group', 'begin', 'wreck', 'bar', 'smash', 'fixtur', 'mirror', 'break', 'cash', 'regist', 'bartend', 'spray', 'seltzer', 'water', 'nation', \"'s\", 'face', 'group', 'policemen', 'appear', 'order', 'everybodi', 'leav'], tags=['0']),\n",
              " TaggedDocument(words=['moon', 'paint', 'smile', 'face', 'hang', 'park', 'night', 'young', 'coupl', 'walk', 'past', 'fenc', 'learn', 'rail', 'look', 'moon', 'smile', 'embrac', 'moon', \"'s\", 'smile', 'get', 'bigger', 'sit', 'bench', 'tree', 'moon', \"'s\", 'view', 'block', 'caus', 'frown', 'last', 'scene', 'man', 'fan', 'woman', 'hat', 'moon', 'left', 'sky', 'perch', 'shoulder', 'see', 'everyth', 'better'], tags=['1']),\n",
              " TaggedDocument(words=['film', 'minut', 'long', 'compos', 'two', 'shot', 'first', 'girl', 'sit', 'base', 'altar', 'tomb', 'face', 'hidden', 'camera', 'center', 'altar', 'view', 'portal', 'display', 'portrait', 'three', 'u.s.', 'presidents—abraham', 'lincoln', 'jame', 'a.', 'garfield', 'william', 'mckinley—each', 'victim', 'assassin', 'second', 'shot', 'run', 'eight', 'second', 'long', 'assassin', 'kneel', 'feet', 'ladi', 'justic'], tags=['2']),\n",
              " TaggedDocument(words=['last', 'second', 'consist', 'two', 'shot', 'first', 'shot', 'set', 'wood', 'winter', 'actor', 'repres', 'vice-presid', 'theodor', 'roosevelt', 'enthusiast', 'hurri', 'hillsid', 'toward', 'tree', 'foreground', 'fall', 'right', 'cock', 'rifl', 'two', 'men', 'bear', 'sign', 'read', 'photograph', 'press', 'agent', 'respect', 'follow', 'shot', 'photograph', 'set', 'camera', 'teddi', 'aim', 'rifl', 'upward', 'tree', 'fell', 'appear', 'common', 'hous', 'cat', 'proce', 'stab', 'teddi', 'hold', 'prize', 'aloft', 'press', 'agent', 'take', 'note', 'second', 'shot', 'taken', 'slightli', 'differ', 'part', 'wood', 'path', 'teddi', 'ride', 'path', 'hors', 'toward', 'camera', 'left', 'shot', 'follow', 'close', 'press', 'agent', 'photograph', 'still', 'duti', 'hold', 'sign'], tags=['3']),\n",
              " TaggedDocument(words=['earliest', 'known', 'adapt', 'classic', 'fairytal', 'film', 'show', 'jack', 'trade', 'cow', 'bean', 'mother', 'forc', 'drop', 'front', 'yard', 'beig', 'forc', 'upstair', 'sleep', 'jack', 'visit', 'fairi', 'show', 'glimps', 'await', 'ascend', 'bean', 'stalk', 'version', 'jack', 'son', 'depos', 'king', 'jack', 'wake', 'find', 'beanstalk', 'grown', 'climb', 'top', 'enter', 'giant', \"'s\", 'home', 'giant', 'find', 'jack', 'narrowli', 'escap', 'giant', 'chase', 'jack', 'bean', 'stalk', 'jack', 'abl', 'cut', 'giant', 'get', 'safeti', 'fall', 'kill', 'jack', 'celebr', 'fairi', 'reveal', 'jack', 'may', 'return', 'home', 'princ'], tags=['4'])]"
            ]
          },
          "metadata": {
            "tags": []
          },
          "execution_count": 27
        }
      ]
    },
    {
      "cell_type": "markdown",
      "metadata": {
        "id": "86tVNipeD_h_",
        "colab_type": "text"
      },
      "source": [
        "### **Train Doc2Vec Model Based on Amazon Reviews.**\n",
        "First we will define the attributes of Doc2Vec model:\n",
        "\n",
        "\n",
        "*   **Vector Size:** Dimensionality of the documents feature vector.\n",
        "*   **Min Count:** Ignores all words with total frequency lower than this.\n",
        "*   **Epochs:** Number of iterations (epochs) over the corpus.\n",
        "*   **Workers:** Use these many worker threads to train the model (faster training with multicore machines).\n",
        "\n",
        "Second build the **Vocabulary** based on the training corpus (processed amazon reviews). Finally train the model on the training corpus.\n",
        "\n",
        "Note: the default used algorithm is PV-DM."
      ]
    },
    {
      "cell_type": "code",
      "metadata": {
        "id": "nANm0U59m_Zq",
        "colab_type": "code",
        "colab": {}
      },
      "source": [
        "model = Doc2Vec(vector_size=50, min_count=2, epochs=40, workers=8)\n",
        "model.build_vocab(train_corpus)\n",
        "model.train(train_corpus, total_examples=model.corpus_count, epochs=model.epochs)"
      ],
      "execution_count": 0,
      "outputs": []
    },
    {
      "cell_type": "markdown",
      "metadata": {
        "id": "3ziLFmHzqxsJ",
        "colab_type": "text"
      },
      "source": [
        "### **Load DeftEval Trainning & Dev Data**\n",
        "\n",
        "Note: as the code is executed on google colab, the path of the data is rooted from the drive. So, the path of the data need to be change if the code will  be executed on the local machine."
      ]
    },
    {
      "cell_type": "code",
      "metadata": {
        "id": "bocr33jBpbC8",
        "colab_type": "code",
        "colab": {}
      },
      "source": [
        "deft_loader = DeftCorpusLoader(\"drive/My Drive/DeftEval/deft_corpus/data\")\n",
        "trainframe, devframe = deft_loader.load_classification_data()"
      ],
      "execution_count": 0,
      "outputs": []
    },
    {
      "cell_type": "code",
      "metadata": {
        "id": "sTEacSqapfbt",
        "colab_type": "code",
        "colab": {}
      },
      "source": [
        "deft_loader.preprocess_data(devframe)\n",
        "deft_loader.clean_data(devframe)\n",
        "dev_vectors = []\n",
        "\n",
        "# Create test data vectors from Doc2Vec model\n",
        "for parsed_list in devframe[\"Parsed\"]:\n",
        "  dev_vectors.append(model.infer_vector(parsed_list))"
      ],
      "execution_count": 0,
      "outputs": []
    },
    {
      "cell_type": "code",
      "metadata": {
        "id": "4OwSvboSphlk",
        "colab_type": "code",
        "colab": {}
      },
      "source": [
        "deft_loader.preprocess_data(trainframe)\n",
        "deft_loader.clean_data(trainframe)\n",
        "train_vectors=[]\n",
        "\n",
        "# Create training data vectors from Doc2Vec model\n",
        "for parsed_list in trainframe[\"Parsed\"]:\n",
        "  train_vectors.append(model.infer_vector(parsed_list))"
      ],
      "execution_count": 0,
      "outputs": []
    },
    {
      "cell_type": "markdown",
      "metadata": {
        "id": "s3n2l4lkp5Tv",
        "colab_type": "text"
      },
      "source": [
        "### **Apply Classifiers Algorithms**\n",
        "\n",
        "For each classifier test, **F1-score** and **Accuracy** are calculated."
      ]
    },
    {
      "cell_type": "markdown",
      "metadata": {
        "id": "aIQ18FDi2ZXr",
        "colab_type": "text"
      },
      "source": [
        "**1. Naive Bayes Algorithm**"
      ]
    },
    {
      "cell_type": "code",
      "metadata": {
        "id": "t-dAIYO1pkVN",
        "colab_type": "code",
        "outputId": "227e5838-6187-482d-b191-2bff6dfe39d2",
        "colab": {
          "base_uri": "https://localhost:8080/",
          "height": 170
        }
      },
      "source": [
        "gnb = GaussianNB()\n",
        "test_predict = gnb.fit(train_vectors, trainframe['HasDef']).predict(dev_vectors)\n",
        "print(metrics.classification_report(list(devframe[\"HasDef\"]), test_predict))"
      ],
      "execution_count": 32,
      "outputs": [
        {
          "output_type": "stream",
          "text": [
            "              precision    recall  f1-score   support\n",
            "\n",
            "           0       0.68      0.84      0.75       511\n",
            "           1       0.51      0.30      0.38       283\n",
            "\n",
            "    accuracy                           0.65       794\n",
            "   macro avg       0.60      0.57      0.57       794\n",
            "weighted avg       0.62      0.65      0.62       794\n",
            "\n"
          ],
          "name": "stdout"
        }
      ]
    },
    {
      "cell_type": "markdown",
      "metadata": {
        "id": "7uju07DT2qoj",
        "colab_type": "text"
      },
      "source": [
        "**2. Decision Tree Algorithm**"
      ]
    },
    {
      "cell_type": "code",
      "metadata": {
        "id": "HgZw5ZqwptFo",
        "colab_type": "code",
        "outputId": "e5722dc4-3fde-4b56-a24a-9c707b1af4e4",
        "colab": {
          "base_uri": "https://localhost:8080/",
          "height": 170
        }
      },
      "source": [
        "decision_tree = tree.DecisionTreeClassifier()\n",
        "test_predict = decision_tree.fit(train_vectors, trainframe['HasDef']).predict(dev_vectors)\n",
        "print(metrics.classification_report(list(devframe[\"HasDef\"]), test_predict))"
      ],
      "execution_count": 34,
      "outputs": [
        {
          "output_type": "stream",
          "text": [
            "              precision    recall  f1-score   support\n",
            "\n",
            "           0       0.67      0.67      0.67       511\n",
            "           1       0.41      0.41      0.41       283\n",
            "\n",
            "    accuracy                           0.58       794\n",
            "   macro avg       0.54      0.54      0.54       794\n",
            "weighted avg       0.58      0.58      0.58       794\n",
            "\n"
          ],
          "name": "stdout"
        }
      ]
    },
    {
      "cell_type": "markdown",
      "metadata": {
        "id": "rvYEQzgD2zsB",
        "colab_type": "text"
      },
      "source": [
        "**3. Logistic Regression Algorithm**"
      ]
    },
    {
      "cell_type": "code",
      "metadata": {
        "id": "UKkVAfR3pyd2",
        "colab_type": "code",
        "outputId": "0f9a4d93-8236-4bb4-fc74-77efd2ee4f02",
        "colab": {
          "base_uri": "https://localhost:8080/",
          "height": 170
        }
      },
      "source": [
        "test_predict = LogisticRegression(random_state=0).fit(train_vectors, trainframe['HasDef']).predict(dev_vectors)\n",
        "print(metrics.classification_report(list(devframe[\"HasDef\"]), test_predict))"
      ],
      "execution_count": 36,
      "outputs": [
        {
          "output_type": "stream",
          "text": [
            "              precision    recall  f1-score   support\n",
            "\n",
            "           0       0.66      0.97      0.78       511\n",
            "           1       0.61      0.10      0.17       283\n",
            "\n",
            "    accuracy                           0.66       794\n",
            "   macro avg       0.64      0.53      0.47       794\n",
            "weighted avg       0.64      0.66      0.56       794\n",
            "\n"
          ],
          "name": "stdout"
        }
      ]
    }
  ]
}